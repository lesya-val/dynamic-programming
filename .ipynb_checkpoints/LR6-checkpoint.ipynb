{
 "cells": [
  {
   "cell_type": "markdown",
   "metadata": {},
   "source": [
    "# Лабораторная работа №6"
   ]
  },
  {
   "cell_type": "markdown",
   "metadata": {},
   "source": [
    "## Задание"
   ]
  },
  {
   "cell_type": "markdown",
   "metadata": {},
   "source": [
    "Провести классификацию найденного датасета, методами CatBoost"
   ]
  },
  {
   "cell_type": "markdown",
   "metadata": {},
   "source": [
    "Импорт библиотек"
   ]
  },
  {
   "cell_type": "code",
   "execution_count": 1,
   "metadata": {},
   "outputs": [],
   "source": [
    "import numpy as np\n",
    "import pandas as pd\n",
    "from catboost import CatBoostClassifier\n",
    "from sklearn.model_selection import train_test_split, GridSearchCV\n",
    "from sklearn.metrics import accuracy_score, classification_report\n",
    "from sklearn.preprocessing import LabelEncoder, StandardScaler"
   ]
  },
  {
   "cell_type": "markdown",
   "metadata": {},
   "source": [
    "Загрузка датасета"
   ]
  },
  {
   "cell_type": "code",
   "execution_count": 2,
   "metadata": {},
   "outputs": [
    {
     "name": "stdout",
     "output_type": "stream",
     "text": [
      "  manufacturer_name model_name transmission   color  odometer_value  \\\n",
      "0            Subaru    Outback    automatic  silver          190000   \n",
      "1            Subaru    Outback    automatic    blue          290000   \n",
      "2            Subaru   Forester    automatic     red          402000   \n",
      "3            Subaru    Impreza   mechanical    blue           10000   \n",
      "4            Subaru     Legacy    automatic   black          280000   \n",
      "\n",
      "   year_produced engine_fuel  engine_has_gas engine_type  engine_capacity  \\\n",
      "0           2010    gasoline           False    gasoline              2.5   \n",
      "1           2002    gasoline           False    gasoline              3.0   \n",
      "2           2001    gasoline           False    gasoline              2.5   \n",
      "3           1999    gasoline           False    gasoline              3.0   \n",
      "4           2001    gasoline           False    gasoline              2.5   \n",
      "\n",
      "   ... feature_1  feature_2 feature_3 feature_4  feature_5  feature_6  \\\n",
      "0  ...      True       True      True     False       True      False   \n",
      "1  ...      True      False     False      True       True      False   \n",
      "2  ...      True      False     False     False      False      False   \n",
      "3  ...     False      False     False     False      False      False   \n",
      "4  ...      True      False      True      True      False      False   \n",
      "\n",
      "  feature_7  feature_8  feature_9  duration_listed  \n",
      "0      True       True       True               16  \n",
      "1     False      False       True               83  \n",
      "2     False       True       True              151  \n",
      "3     False      False      False               86  \n",
      "4     False      False       True                7  \n",
      "\n",
      "[5 rows x 30 columns]\n"
     ]
    }
   ],
   "source": [
    "df = pd.read_csv('cars.csv', encoding='utf-8')\n",
    "print(df.head(5))"
   ]
  },
  {
   "cell_type": "markdown",
   "metadata": {},
   "source": [
    "Удаление ненужных столбцов из датасета"
   ]
  },
  {
   "cell_type": "code",
   "execution_count": 3,
   "metadata": {},
   "outputs": [
    {
     "name": "stdout",
     "output_type": "stream",
     "text": [
      "  manufacturer_name model_name transmission   color  odometer_value  \\\n",
      "0            Subaru    Outback    automatic  silver          190000   \n",
      "1            Subaru    Outback    automatic    blue          290000   \n",
      "2            Subaru   Forester    automatic     red          402000   \n",
      "3            Subaru    Impreza   mechanical    blue           10000   \n",
      "4            Subaru     Legacy    automatic   black          280000   \n",
      "\n",
      "   year_produced engine_fuel  engine_has_gas engine_type  engine_capacity  \\\n",
      "0           2010    gasoline           False    gasoline              2.5   \n",
      "1           2002    gasoline           False    gasoline              3.0   \n",
      "2           2001    gasoline           False    gasoline              2.5   \n",
      "3           1999    gasoline           False    gasoline              3.0   \n",
      "4           2001    gasoline           False    gasoline              2.5   \n",
      "\n",
      "   body_type  has_warranty  state drivetrain  price_usd  is_exchangeable  \\\n",
      "0  universal         False  owned        all   10900.00            False   \n",
      "1  universal         False  owned        all    5000.00             True   \n",
      "2        suv         False  owned        all    2800.00             True   \n",
      "3      sedan         False  owned        all    9999.00             True   \n",
      "4  universal         False  owned        all    2134.11             True   \n",
      "\n",
      "   location_region  number_of_photos  up_counter  feature_0  \n",
      "0     Минская обл.                 9          13      False  \n",
      "1     Минская обл.                12          54      False  \n",
      "2     Минская обл.                 4          72      False  \n",
      "3     Минская обл.                 9          42       True  \n",
      "4  Гомельская обл.                14           7      False  \n"
     ]
    }
   ],
   "source": [
    "columns_to_drop = ['feature_1', 'feature_2', 'feature_3', 'feature_4', 'feature_5', 'feature_6', 'feature_7', 'feature_8', 'feature_9', 'duration_listed']\n",
    "df = df.drop(columns=columns_to_drop, axis=1)\n",
    "print(df.head(5))"
   ]
  },
  {
   "cell_type": "markdown",
   "metadata": {},
   "source": [
    "Удаление строк с пропущенными значениями"
   ]
  },
  {
   "cell_type": "code",
   "execution_count": 4,
   "metadata": {},
   "outputs": [],
   "source": [
    "df.dropna(inplace=True)"
   ]
  },
  {
   "cell_type": "markdown",
   "metadata": {},
   "source": [
    "Предобработка данных"
   ]
  },
  {
   "cell_type": "code",
   "execution_count": 5,
   "metadata": {},
   "outputs": [
    {
     "name": "stdout",
     "output_type": "stream",
     "text": [
      "   manufacturer_name  model_name  transmission  color  odometer_value  \\\n",
      "0                 45         763             0      8          190000   \n",
      "1                 45         763             0      1          290000   \n",
      "2                 45         519             0      7          402000   \n",
      "3                 45         609             1      1           10000   \n",
      "4                 45         664             0      0          280000   \n",
      "\n",
      "   year_produced  engine_fuel  engine_has_gas  engine_type  engine_capacity  \\\n",
      "0           2010            2           False            1              2.5   \n",
      "1           2002            2           False            1              3.0   \n",
      "2           2001            2           False            1              2.5   \n",
      "3           1999            2           False            1              3.0   \n",
      "4           2001            2           False            1              2.5   \n",
      "\n",
      "   body_type  has_warranty  state  drivetrain  price_usd  is_exchangeable  \\\n",
      "0         10         False      2           0   10900.00            False   \n",
      "1         10         False      2           0    5000.00             True   \n",
      "2          9         False      2           0    2800.00             True   \n",
      "3          8         False      2           0    9999.00             True   \n",
      "4         10         False      2           0    2134.11             True   \n",
      "\n",
      "   location_region  number_of_photos  up_counter  feature_0  \n",
      "0                4                 9          13      False  \n",
      "1                4                12          54      False  \n",
      "2                4                 4          72      False  \n",
      "3                4                 9          42       True  \n",
      "4                2                14           7      False  \n"
     ]
    }
   ],
   "source": [
    "# Кодирование категориальных признаков\n",
    "label_encoders = {}\n",
    "for column in df.select_dtypes(include=['object']).columns:\n",
    "    label_encoders[column] = LabelEncoder()\n",
    "    df[column] = label_encoders[column].fit_transform(df[column])\n",
    "    \n",
    "print(df.head(5))"
   ]
  },
  {
   "cell_type": "code",
   "execution_count": 6,
   "metadata": {},
   "outputs": [
    {
     "name": "stdout",
     "output_type": "stream",
     "text": [
      "   manufacturer_name  model_name  transmission     color  odometer_value  \\\n",
      "0           1.089297    0.597314     -1.410285  0.978100       -0.432979   \n",
      "1           1.089297    0.597314     -1.410285 -0.969685        0.302004   \n",
      "2           1.089297   -0.149960     -1.410285  0.699845        1.125184   \n",
      "3           1.089297    0.125674      0.709076 -0.969685       -1.755946   \n",
      "4           1.089297    0.294117     -1.410285 -1.247940        0.228505   \n",
      "\n",
      "   year_produced  engine_fuel  engine_has_gas  engine_type  engine_capacity  \\\n",
      "0       0.875318     0.721021           False     0.708498         0.662782   \n",
      "1      -0.116665     0.721021           False     0.708498         1.407751   \n",
      "2      -0.240663     0.721021           False     0.708498         0.662782   \n",
      "3      -0.488659     0.721021           False     0.708498         1.407751   \n",
      "4      -0.240663     0.721021           False     0.708498         0.662782   \n",
      "\n",
      "   body_type  has_warranty     state  drivetrain  price_usd  is_exchangeable  \\\n",
      "0   1.096064         False  0.138353   -1.890517   0.663465            False   \n",
      "1   1.096064         False  0.138353   -1.890517  -0.254806             True   \n",
      "2   0.754660         False  0.138353   -1.890517  -0.597213             True   \n",
      "3   0.413255         False  0.138353   -1.890517   0.523234             True   \n",
      "4   1.096064         False  0.138353   -1.890517  -0.700851             True   \n",
      "\n",
      "   location_region  number_of_photos  up_counter  feature_0  \n",
      "0         0.508337         -0.106366   -0.076380      False  \n",
      "1         0.508337          0.386020    0.870694      False  \n",
      "2         0.508337         -0.927009    1.286483      False  \n",
      "3         0.508337         -0.106366    0.593502       True  \n",
      "4        -0.938511          0.714278   -0.214976      False  \n"
     ]
    }
   ],
   "source": [
    "# Масштабирование числовых признаков\n",
    "scaler = StandardScaler()\n",
    "numeric_features = df.select_dtypes(include=['int32', 'int64', 'float32', 'float64']).columns\n",
    "df[numeric_features] = scaler.fit_transform(df[numeric_features])\n",
    "\n",
    "print(df.head(5))"
   ]
  },
  {
   "cell_type": "markdown",
   "metadata": {},
   "source": [
    "Разделение данных на обучающий и тестовый наборы"
   ]
  },
  {
   "cell_type": "code",
   "execution_count": 7,
   "metadata": {},
   "outputs": [],
   "source": [
    "X = df.drop('feature_0', axis=1)\n",
    "Y = df['feature_0']\n",
    "X_train, X_test, Y_train, Y_test = train_test_split(X, Y, test_size=0.2, random_state=42)"
   ]
  },
  {
   "cell_type": "markdown",
   "metadata": {},
   "source": [
    "##### Обучение модели методами CatBoost"
   ]
  },
  {
   "cell_type": "markdown",
   "metadata": {},
   "source": [
    "Создание объекта CatBoostClassifier"
   ]
  },
  {
   "cell_type": "code",
   "execution_count": 8,
   "metadata": {},
   "outputs": [],
   "source": [
    "model = CatBoostClassifier()"
   ]
  },
  {
   "cell_type": "markdown",
   "metadata": {},
   "source": [
    "Определение сетки параметров для поиска"
   ]
  },
  {
   "cell_type": "code",
   "execution_count": 9,
   "metadata": {},
   "outputs": [],
   "source": [
    "param_grid = {\n",
    "    'learning_rate': [0.01, 0.05, 0.1],\n",
    "    'depth': [4, 6, 8],\n",
    "    'n_estimators': [50, 100, 200]\n",
    "}"
   ]
  },
  {
   "cell_type": "markdown",
   "metadata": {},
   "source": [
    "Поиск оптимальных параметров с использованием кросс-валидации"
   ]
  },
  {
   "cell_type": "code",
   "execution_count": 18,
   "metadata": {},
   "outputs": [
    {
     "data": {
      "text/html": [
       "<style>#sk-container-id-2 {color: black;background-color: white;}#sk-container-id-2 pre{padding: 0;}#sk-container-id-2 div.sk-toggleable {background-color: white;}#sk-container-id-2 label.sk-toggleable__label {cursor: pointer;display: block;width: 100%;margin-bottom: 0;padding: 0.3em;box-sizing: border-box;text-align: center;}#sk-container-id-2 label.sk-toggleable__label-arrow:before {content: \"▸\";float: left;margin-right: 0.25em;color: #696969;}#sk-container-id-2 label.sk-toggleable__label-arrow:hover:before {color: black;}#sk-container-id-2 div.sk-estimator:hover label.sk-toggleable__label-arrow:before {color: black;}#sk-container-id-2 div.sk-toggleable__content {max-height: 0;max-width: 0;overflow: hidden;text-align: left;background-color: #f0f8ff;}#sk-container-id-2 div.sk-toggleable__content pre {margin: 0.2em;color: black;border-radius: 0.25em;background-color: #f0f8ff;}#sk-container-id-2 input.sk-toggleable__control:checked~div.sk-toggleable__content {max-height: 200px;max-width: 100%;overflow: auto;}#sk-container-id-2 input.sk-toggleable__control:checked~label.sk-toggleable__label-arrow:before {content: \"▾\";}#sk-container-id-2 div.sk-estimator input.sk-toggleable__control:checked~label.sk-toggleable__label {background-color: #d4ebff;}#sk-container-id-2 div.sk-label input.sk-toggleable__control:checked~label.sk-toggleable__label {background-color: #d4ebff;}#sk-container-id-2 input.sk-hidden--visually {border: 0;clip: rect(1px 1px 1px 1px);clip: rect(1px, 1px, 1px, 1px);height: 1px;margin: -1px;overflow: hidden;padding: 0;position: absolute;width: 1px;}#sk-container-id-2 div.sk-estimator {font-family: monospace;background-color: #f0f8ff;border: 1px dotted black;border-radius: 0.25em;box-sizing: border-box;margin-bottom: 0.5em;}#sk-container-id-2 div.sk-estimator:hover {background-color: #d4ebff;}#sk-container-id-2 div.sk-parallel-item::after {content: \"\";width: 100%;border-bottom: 1px solid gray;flex-grow: 1;}#sk-container-id-2 div.sk-label:hover label.sk-toggleable__label {background-color: #d4ebff;}#sk-container-id-2 div.sk-serial::before {content: \"\";position: absolute;border-left: 1px solid gray;box-sizing: border-box;top: 0;bottom: 0;left: 50%;z-index: 0;}#sk-container-id-2 div.sk-serial {display: flex;flex-direction: column;align-items: center;background-color: white;padding-right: 0.2em;padding-left: 0.2em;position: relative;}#sk-container-id-2 div.sk-item {position: relative;z-index: 1;}#sk-container-id-2 div.sk-parallel {display: flex;align-items: stretch;justify-content: center;background-color: white;position: relative;}#sk-container-id-2 div.sk-item::before, #sk-container-id-2 div.sk-parallel-item::before {content: \"\";position: absolute;border-left: 1px solid gray;box-sizing: border-box;top: 0;bottom: 0;left: 50%;z-index: -1;}#sk-container-id-2 div.sk-parallel-item {display: flex;flex-direction: column;z-index: 1;position: relative;background-color: white;}#sk-container-id-2 div.sk-parallel-item:first-child::after {align-self: flex-end;width: 50%;}#sk-container-id-2 div.sk-parallel-item:last-child::after {align-self: flex-start;width: 50%;}#sk-container-id-2 div.sk-parallel-item:only-child::after {width: 0;}#sk-container-id-2 div.sk-dashed-wrapped {border: 1px dashed gray;margin: 0 0.4em 0.5em 0.4em;box-sizing: border-box;padding-bottom: 0.4em;background-color: white;}#sk-container-id-2 div.sk-label label {font-family: monospace;font-weight: bold;display: inline-block;line-height: 1.2em;}#sk-container-id-2 div.sk-label-container {text-align: center;}#sk-container-id-2 div.sk-container {/* jupyter's `normalize.less` sets `[hidden] { display: none; }` but bootstrap.min.css set `[hidden] { display: none !important; }` so we also need the `!important` here to be able to override the default hidden behavior on the sphinx rendered scikit-learn.org. See: https://github.com/scikit-learn/scikit-learn/issues/21755 */display: inline-block !important;position: relative;}#sk-container-id-2 div.sk-text-repr-fallback {display: none;}</style><div id=\"sk-container-id-2\" class=\"sk-top-container\"><div class=\"sk-text-repr-fallback\"><pre>GridSearchCV(cv=5,\n",
       "             estimator=&lt;catboost.core.CatBoostClassifier object at 0x000001B256168B90&gt;,\n",
       "             n_jobs=-1,\n",
       "             param_grid={&#x27;depth&#x27;: [4, 6, 8], &#x27;learning_rate&#x27;: [0.01, 0.05, 0.1],\n",
       "                         &#x27;n_estimators&#x27;: [50, 100, 200]},\n",
       "             scoring=&#x27;accuracy&#x27;)</pre><b>In a Jupyter environment, please rerun this cell to show the HTML representation or trust the notebook. <br />On GitHub, the HTML representation is unable to render, please try loading this page with nbviewer.org.</b></div><div class=\"sk-container\" hidden><div class=\"sk-item sk-dashed-wrapped\"><div class=\"sk-label-container\"><div class=\"sk-label sk-toggleable\"><input class=\"sk-toggleable__control sk-hidden--visually\" id=\"sk-estimator-id-4\" type=\"checkbox\" ><label for=\"sk-estimator-id-4\" class=\"sk-toggleable__label sk-toggleable__label-arrow\">GridSearchCV</label><div class=\"sk-toggleable__content\"><pre>GridSearchCV(cv=5,\n",
       "             estimator=&lt;catboost.core.CatBoostClassifier object at 0x000001B256168B90&gt;,\n",
       "             n_jobs=-1,\n",
       "             param_grid={&#x27;depth&#x27;: [4, 6, 8], &#x27;learning_rate&#x27;: [0.01, 0.05, 0.1],\n",
       "                         &#x27;n_estimators&#x27;: [50, 100, 200]},\n",
       "             scoring=&#x27;accuracy&#x27;)</pre></div></div></div><div class=\"sk-parallel\"><div class=\"sk-parallel-item\"><div class=\"sk-item\"><div class=\"sk-label-container\"><div class=\"sk-label sk-toggleable\"><input class=\"sk-toggleable__control sk-hidden--visually\" id=\"sk-estimator-id-5\" type=\"checkbox\" ><label for=\"sk-estimator-id-5\" class=\"sk-toggleable__label sk-toggleable__label-arrow\">estimator: CatBoostClassifier</label><div class=\"sk-toggleable__content\"><pre>&lt;catboost.core.CatBoostClassifier object at 0x000001B256168B90&gt;</pre></div></div></div><div class=\"sk-serial\"><div class=\"sk-item\"><div class=\"sk-estimator sk-toggleable\"><input class=\"sk-toggleable__control sk-hidden--visually\" id=\"sk-estimator-id-6\" type=\"checkbox\" ><label for=\"sk-estimator-id-6\" class=\"sk-toggleable__label sk-toggleable__label-arrow\">CatBoostClassifier</label><div class=\"sk-toggleable__content\"><pre>&lt;catboost.core.CatBoostClassifier object at 0x000001B256168B90&gt;</pre></div></div></div></div></div></div></div></div></div></div>"
      ],
      "text/plain": [
       "GridSearchCV(cv=5,\n",
       "             estimator=<catboost.core.CatBoostClassifier object at 0x000001B256168B90>,\n",
       "             n_jobs=-1,\n",
       "             param_grid={'depth': [4, 6, 8], 'learning_rate': [0.01, 0.05, 0.1],\n",
       "                         'n_estimators': [50, 100, 200]},\n",
       "             scoring='accuracy')"
      ]
     },
     "execution_count": 18,
     "metadata": {},
     "output_type": "execute_result"
    }
   ],
   "source": [
    "grid_search = GridSearchCV(estimator=model, param_grid=param_grid, cv=5, scoring='accuracy', n_jobs=-1)\n",
    "grid_search.fit(X_train, Y_train, verbose=False)"
   ]
  },
  {
   "cell_type": "markdown",
   "metadata": {},
   "source": [
    "Получение лучших параметров"
   ]
  },
  {
   "cell_type": "code",
   "execution_count": 25,
   "metadata": {},
   "outputs": [
    {
     "name": "stdout",
     "output_type": "stream",
     "text": [
      "Лучшие параметры: {'depth': 8, 'learning_rate': 0.1, 'n_estimators': 200}\n"
     ]
    }
   ],
   "source": [
    "best_params = grid_search.best_params_\n",
    "print(\"Лучшие параметры:\", best_params)"
   ]
  },
  {
   "cell_type": "markdown",
   "metadata": {},
   "source": [
    "Обучение модели с лучшими параметрами"
   ]
  },
  {
   "cell_type": "code",
   "execution_count": 20,
   "metadata": {},
   "outputs": [
    {
     "data": {
      "text/plain": [
       "<catboost.core.CatBoostClassifier at 0x1b257929d90>"
      ]
     },
     "execution_count": 20,
     "metadata": {},
     "output_type": "execute_result"
    }
   ],
   "source": [
    "best_classifier = CatBoostClassifier(**best_params)\n",
    "best_classifier.fit(X_train, Y_train, verbose=False)"
   ]
  },
  {
   "cell_type": "markdown",
   "metadata": {},
   "source": [
    "Предсказание на тестовом наборе данных"
   ]
  },
  {
   "cell_type": "code",
   "execution_count": 22,
   "metadata": {},
   "outputs": [],
   "source": [
    "Y_pred = best_classifier.predict(X_test)"
   ]
  },
  {
   "cell_type": "markdown",
   "metadata": {},
   "source": [
    "Оценка модели"
   ]
  },
  {
   "cell_type": "code",
   "execution_count": 23,
   "metadata": {},
   "outputs": [
    {
     "name": "stdout",
     "output_type": "stream",
     "text": [
      "Отчет о классификации:\n",
      "              precision    recall  f1-score   support\n",
      "\n",
      "       False       0.88      0.94      0.91      5958\n",
      "        True       0.74      0.54      0.63      1747\n",
      "\n",
      "    accuracy                           0.85      7705\n",
      "   macro avg       0.81      0.74      0.77      7705\n",
      "weighted avg       0.85      0.85      0.84      7705\n",
      "\n"
     ]
    }
   ],
   "source": [
    "print(\"Отчет о классификации:\")\n",
    "print(classification_report(Y_test, Y_pred))"
   ]
  },
  {
   "cell_type": "markdown",
   "metadata": {},
   "source": [
    "Оценка модели на тестовом наборе данных"
   ]
  },
  {
   "cell_type": "code",
   "execution_count": 26,
   "metadata": {},
   "outputs": [
    {
     "name": "stdout",
     "output_type": "stream",
     "text": [
      "Точность модели методами CatBoost:\n",
      "0.8533419857235561\n"
     ]
    }
   ],
   "source": [
    "accuracy = accuracy_score(Y_test, Y_pred)\n",
    "print(\"Точность модели методами CatBoost:\")\n",
    "print(accuracy)"
   ]
  }
 ],
 "metadata": {
  "kernelspec": {
   "display_name": "Python 3 (ipykernel)",
   "language": "python",
   "name": "python3"
  },
  "language_info": {
   "codemirror_mode": {
    "name": "ipython",
    "version": 3
   },
   "file_extension": ".py",
   "mimetype": "text/x-python",
   "name": "python",
   "nbconvert_exporter": "python",
   "pygments_lexer": "ipython3",
   "version": "3.11.4"
  }
 },
 "nbformat": 4,
 "nbformat_minor": 2
}
